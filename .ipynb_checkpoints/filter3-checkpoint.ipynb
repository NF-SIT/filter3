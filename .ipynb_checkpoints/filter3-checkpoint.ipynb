{
 "cells": [
  {
   "cell_type": "code",
   "execution_count": null,
   "id": "59b66d82-f3c7-4230-9fc3-3aac6da292c8",
   "metadata": {},
   "outputs": [],
   "source": [
    " import numpy as np; import cv2; from matplotlib import pyplot as plt\n",
    "img = cv2.imread('girl.jpg')\n",
    "kernel = np.ones((5,5),np.float32)/25; dst = cv2.filter2D(img,-1,kernel)\n",
    "plt.imshow(dst); plt.show()"
   ]
  }
 ],
 "metadata": {
  "kernelspec": {
   "display_name": "Python 3 (ipykernel)",
   "language": "python",
   "name": "python3"
  },
  "language_info": {
   "codemirror_mode": {
    "name": "ipython",
    "version": 3
   },
   "file_extension": ".py",
   "mimetype": "text/x-python",
   "name": "python",
   "nbconvert_exporter": "python",
   "pygments_lexer": "ipython3",
   "version": "3.10.11"
  }
 },
 "nbformat": 4,
 "nbformat_minor": 5
}
